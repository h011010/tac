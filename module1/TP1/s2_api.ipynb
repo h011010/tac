{
 "cells": [
  {
   "cell_type": "markdown",
   "metadata": {},
   "source": [
    "# APIs: requêtes HTTP"
   ]
  },
  {
   "cell_type": "markdown",
   "metadata": {},
   "source": [
    "## Imports"
   ]
  },
  {
   "cell_type": "code",
   "execution_count": 1,
   "metadata": {},
   "outputs": [],
   "source": [
    "import json\n",
    "import requests"
   ]
  },
  {
   "cell_type": "markdown",
   "metadata": {},
   "source": [
    "Nager.Date Public Holidays API: L'API fournit un moyen simple de consulter les jours fériés de plus de 100 pays, y compris les longs week-ends.\n",
    "\n",
    "API pourrai enrichir CAMille par exemple, pour relier certains articles de presse à des dates symboliques ou des fêtes nationales 🇧🇪."
   ]
  },
  {
   "cell_type": "code",
   "execution_count": 3,
   "metadata": {},
   "outputs": [
    {
     "name": "stdout",
     "output_type": "stream",
     "text": [
      "Jours fériés en 2025 pour le pays BE 🇧🇪 :\n",
      "--------------------------------------------------\n",
      "2025-01-01 - Nieuwjaar (New Year's Day)\n",
      "2025-04-18 - Goede Vrijdag (Good Friday)\n",
      "2025-04-20 - Pasen (Easter Sunday)\n",
      "2025-04-21 - Paasmaandag (Easter Monday)\n",
      "2025-05-01 - Dag van de arbeid (Labour Day)\n",
      "2025-05-29 - Onze Lieve Heer hemel (Ascension Day)\n",
      "2025-05-30 - Day after Ascension Day (Day after Ascension Day)\n",
      "2025-06-09 - Pinkstermaandag (Whit Monday)\n",
      "2025-07-21 - Nationale feestdag (Belgian National Day)\n",
      "2025-08-15 - Onze Lieve Vrouw hemelvaart (Assumption Day)\n",
      "2025-11-01 - Allerheiligen (All Saints' Day)\n",
      "2025-11-11 - Wapenstilstand (Armistice Day)\n",
      "2025-12-25 - Kerstdag (Christmas Day)\n",
      "2025-12-26 - Boxing Day (St. Stephen's Day)\n"
     ]
    }
   ],
   "source": [
    "\n",
    "# Choisir le pays et une année\n",
    "country_code = \"BE\"  \n",
    "annee = 2025\n",
    "\n",
    "url = f\"https://date.nager.at/api/v3/PublicHolidays/{annee}/{country_code}\"\n",
    "\n",
    "#requête à l'API\n",
    "response = requests.get(url)\n",
    "\n",
    "#Vérifier la réponse\n",
    "if response.status_code == 200:\n",
    "    holidays = response.json()\n",
    "\n",
    "    print(f\"Jours fériés en {annee} pour le pays {country_code} 🇧🇪 :\")\n",
    "    print(\"--------------------------------------------------\")\n",
    "\n",
    "    # on fait une boucle sur les jours fériés\n",
    "    for h in holidays:\n",
    "        print(f\"{h['date']} - {h['localName']} ({h['name']})\")\n",
    "else:\n",
    "    print(\"Erreur :\", response.status_code)\n"
   ]
  },
  {
   "cell_type": "markdown",
   "metadata": {},
   "source": [
    "## Utiliser [Nominatim](https://nominatim.org/) pour connaître les coordonnées géographiques d'une adresse"
   ]
  },
  {
   "cell_type": "code",
   "execution_count": 2,
   "metadata": {},
   "outputs": [
    {
     "name": "stdout",
     "output_type": "stream",
     "text": [
      "ULB (50.8116064 - 4.3805110)\n"
     ]
    }
   ],
   "source": [
    "address = \"Avenue Franklin Roosevelt, Ixelles\"\n",
    "\n",
    "\"\"\"Retrieve coordinates from Open Street Map\"\"\"\n",
    "headers = {'Referer': 'https://nominatim.openstreetmap.org/ui/search.html'}\n",
    "url = \"https://nominatim.openstreetmap.org/search\"\n",
    "data = {'q': address, 'format': 'json'}\n",
    "resp = requests.get(url, data, headers=headers)\n",
    "try:\n",
    "    json_list = json.loads(resp.text)\n",
    "except json.JSONDecodeError: # response is not in JSON as expected, probably the request is being blocked\n",
    "    print(resp.text)\n",
    "for item in json_list:\n",
    "    display_name = item['display_name']\n",
    "    short_name = display_name.split(\", \")[0]\n",
    "    lat = item['lat']\n",
    "    lon = item['lon']\n",
    "    print(f\"{short_name} ({lat} - {lon})\")\n"
   ]
  },
  {
   "cell_type": "markdown",
   "metadata": {},
   "source": [
    "## Utiliser REST Countries pour récupérer des informations sur un pays"
   ]
  },
  {
   "cell_type": "markdown",
   "metadata": {},
   "source": [
    "https://restcountries.com/"
   ]
  },
  {
   "cell_type": "code",
   "execution_count": 3,
   "metadata": {},
   "outputs": [
    {
     "name": "stdout",
     "output_type": "stream",
     "text": [
      "Languages: German, French, Dutch\n",
      "Borders: France, Germany, Luxembourg, Netherlands\n"
     ]
    }
   ],
   "source": [
    "country_name = \"Belgium\"\n",
    "\n",
    "base_url = \"https://restcountries.com/v3.1/\"\n",
    "name_url = base_url + \"name/\"\n",
    "code_url = base_url + \"alpha/\"\n",
    "resp = requests.get(name_url + country_name)\n",
    "country = resp.json()[0]\n",
    "try:\n",
    "    languages = country['languages']\n",
    "    print(f\"Languages: {', '.join(languages.values())}\")\n",
    "    border_codes = country['borders']\n",
    "    border_names = []\n",
    "    for code in border_codes:\n",
    "        resp = requests.get(code_url + code)\n",
    "        border_country = resp.json()[0]\n",
    "        border_name = border_country[\"name\"][\"common\"]\n",
    "        border_names.append(border_name)\n",
    "    print(f\"Borders: {', '.join(border_names)}\")\n",
    "except KeyError:\n",
    "    print(\"Unknown country, please use English or native name\")"
   ]
  },
  {
   "cell_type": "markdown",
   "metadata": {},
   "source": [
    "## Pour en savoir plus"
   ]
  },
  {
   "cell_type": "markdown",
   "metadata": {},
   "source": [
    "- Les API Rest: https://towardsdatascience.com/introduction-to-rest-apis-90b5d9676004\n",
    "- La librairie [`requests`](https://requests.readthedocs.io/en/latest/)\n",
    "- Développer une API en Python : https://openclassrooms.com/en/courses/4525361-realisez-un-dashboard-avec-tableau/5774811-creez-une-api-avec-flask"
   ]
  }
 ],
 "metadata": {
  "kernelspec": {
   "display_name": "tac_venv",
   "language": "python",
   "name": "python3"
  },
  "language_info": {
   "codemirror_mode": {
    "name": "ipython",
    "version": 3
   },
   "file_extension": ".py",
   "mimetype": "text/x-python",
   "name": "python",
   "nbconvert_exporter": "python",
   "pygments_lexer": "ipython3",
   "version": "3.11.9"
  }
 },
 "nbformat": 4,
 "nbformat_minor": 4
}
